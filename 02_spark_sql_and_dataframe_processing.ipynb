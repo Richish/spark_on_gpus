{
  "nbformat": 4,
  "nbformat_minor": 0,
  "metadata": {
    "colab": {
      "name": "02_spark_sql_and_dataframe_processing.ipynb",
      "provenance": [],
      "authorship_tag": "ABX9TyOoORW+CB6emxkmAsVascBa",
      "include_colab_link": true
    },
    "kernelspec": {
      "name": "python3",
      "display_name": "Python 3"
    },
    "language_info": {
      "name": "python"
    }
  },
  "cells": [
    {
      "cell_type": "markdown",
      "metadata": {
        "id": "view-in-github",
        "colab_type": "text"
      },
      "source": [
        "<a href=\"https://colab.research.google.com/github/Richish/spark_on_gpus/blob/main/02_spark_sql_and_dataframe_processing.ipynb\" target=\"_parent\"><img src=\"https://colab.research.google.com/assets/colab-badge.svg\" alt=\"Open In Colab\"/></a>"
      ]
    },
    {
      "cell_type": "code",
      "metadata": {
        "colab": {
          "base_uri": "https://localhost:8080/"
        },
        "id": "vc-XTneGXAuE",
        "outputId": "8d4249cb-1278-4b25-9331-7d66606d1765"
      },
      "source": [
        "! pip install pyspark\n",
        "!pip install ipython-autotime\n",
        "%load_ext autotime\n",
        "import pyspark"
      ],
      "execution_count": 2,
      "outputs": [
        {
          "output_type": "stream",
          "text": [
            "Collecting pyspark\n",
            "\u001b[?25l  Downloading https://files.pythonhosted.org/packages/45/b0/9d6860891ab14a39d4bddf80ba26ce51c2f9dc4805e5c6978ac0472c120a/pyspark-3.1.1.tar.gz (212.3MB)\n",
            "\u001b[K     |████████████████████████████████| 212.3MB 66kB/s \n",
            "\u001b[?25hCollecting py4j==0.10.9\n",
            "\u001b[?25l  Downloading https://files.pythonhosted.org/packages/9e/b6/6a4fb90cd235dc8e265a6a2067f2a2c99f0d91787f06aca4bcf7c23f3f80/py4j-0.10.9-py2.py3-none-any.whl (198kB)\n",
            "\u001b[K     |████████████████████████████████| 204kB 36.9MB/s \n",
            "\u001b[?25hBuilding wheels for collected packages: pyspark\n",
            "  Building wheel for pyspark (setup.py) ... \u001b[?25l\u001b[?25hdone\n",
            "  Created wheel for pyspark: filename=pyspark-3.1.1-py2.py3-none-any.whl size=212767604 sha256=3272d0b68a9a349b59c1ac4c7dc244079b8c074fdb7927bfba3e69d8869fbc3e\n",
            "  Stored in directory: /root/.cache/pip/wheels/0b/90/c0/01de724414ef122bd05f056541fb6a0ecf47c7ca655f8b3c0f\n",
            "Successfully built pyspark\n",
            "Installing collected packages: py4j, pyspark\n",
            "Successfully installed py4j-0.10.9 pyspark-3.1.1\n",
            "Collecting ipython-autotime\n",
            "  Downloading https://files.pythonhosted.org/packages/b4/c9/b413a24f759641bc27ef98c144b590023c8038dfb8a3f09e713e9dff12c1/ipython_autotime-0.3.1-py2.py3-none-any.whl\n",
            "Requirement already satisfied: ipython in /usr/local/lib/python3.7/dist-packages (from ipython-autotime) (5.5.0)\n",
            "Requirement already satisfied: pexpect; sys_platform != \"win32\" in /usr/local/lib/python3.7/dist-packages (from ipython->ipython-autotime) (4.8.0)\n",
            "Requirement already satisfied: traitlets>=4.2 in /usr/local/lib/python3.7/dist-packages (from ipython->ipython-autotime) (5.0.5)\n",
            "Requirement already satisfied: pygments in /usr/local/lib/python3.7/dist-packages (from ipython->ipython-autotime) (2.6.1)\n",
            "Requirement already satisfied: decorator in /usr/local/lib/python3.7/dist-packages (from ipython->ipython-autotime) (4.4.2)\n",
            "Requirement already satisfied: simplegeneric>0.8 in /usr/local/lib/python3.7/dist-packages (from ipython->ipython-autotime) (0.8.1)\n",
            "Requirement already satisfied: prompt-toolkit<2.0.0,>=1.0.4 in /usr/local/lib/python3.7/dist-packages (from ipython->ipython-autotime) (1.0.18)\n",
            "Requirement already satisfied: setuptools>=18.5 in /usr/local/lib/python3.7/dist-packages (from ipython->ipython-autotime) (54.2.0)\n",
            "Requirement already satisfied: pickleshare in /usr/local/lib/python3.7/dist-packages (from ipython->ipython-autotime) (0.7.5)\n",
            "Requirement already satisfied: ptyprocess>=0.5 in /usr/local/lib/python3.7/dist-packages (from pexpect; sys_platform != \"win32\"->ipython->ipython-autotime) (0.7.0)\n",
            "Requirement already satisfied: ipython-genutils in /usr/local/lib/python3.7/dist-packages (from traitlets>=4.2->ipython->ipython-autotime) (0.2.0)\n",
            "Requirement already satisfied: wcwidth in /usr/local/lib/python3.7/dist-packages (from prompt-toolkit<2.0.0,>=1.0.4->ipython->ipython-autotime) (0.2.5)\n",
            "Requirement already satisfied: six>=1.9.0 in /usr/local/lib/python3.7/dist-packages (from prompt-toolkit<2.0.0,>=1.0.4->ipython->ipython-autotime) (1.15.0)\n",
            "Installing collected packages: ipython-autotime\n",
            "Successfully installed ipython-autotime-0.3.1\n",
            "time: 83.8 ms (started: 2021-04-17 15:06:55 +00:00)\n"
          ],
          "name": "stdout"
        }
      ]
    },
    {
      "cell_type": "code",
      "metadata": {
        "colab": {
          "base_uri": "https://localhost:8080/"
        },
        "id": "hby5cmRdXu-d",
        "outputId": "7029561c-8f25-49a9-d254-60abd08e14fe"
      },
      "source": [
        "\n",
        "from google.colab import drive\n",
        "drive.mount('/content/drive/')\n"
      ],
      "execution_count": 8,
      "outputs": [
        {
          "output_type": "stream",
          "text": [
            "Mounted at /content/drive/\n",
            "ls: cannot access 'MyDrive/colab_notebooks/datasets/taxi-small/': No such file or directory\n",
            "time: 24.3 s (started: 2021-04-17 15:09:29 +00:00)\n"
          ],
          "name": "stdout"
        }
      ]
    },
    {
      "cell_type": "code",
      "metadata": {
        "colab": {
          "base_uri": "https://localhost:8080/"
        },
        "id": "YTdHK3a3XvI0",
        "outputId": "fc4a1922-0c5c-45e3-e615-bdac3cac67ff"
      },
      "source": [
        "!ls /content/drive/MyDrive/colab_notebooks/datasets/taxi-small/\n",
        "train_file = \"/content/drive/MyDrive/colab_notebooks/datasets/taxi-small/train/taxi-small.csv\"\n",
        "eval_file = \"/content/drive/MyDrive/colab_notebooks/datasets/taxi-small/eval/taxi-small.csv\"\n",
        "test_file = \"/content/drive/MyDrive/colab_notebooks/datasets/taxi-small/trainWithEval/test.csv\""
      ],
      "execution_count": 12,
      "outputs": [
        {
          "output_type": "stream",
          "text": [
            "eval  train  trainWithEval\n",
            "time: 116 ms (started: 2021-04-17 15:11:05 +00:00)\n"
          ],
          "name": "stdout"
        }
      ]
    },
    {
      "cell_type": "code",
      "metadata": {
        "colab": {
          "base_uri": "https://localhost:8080/"
        },
        "id": "nkJNkXR8XvLh",
        "outputId": "992095d7-8a49-49e3-c0a0-c477eebbd7e0"
      },
      "source": [
        "# defining scema\n",
        "from pyspark.sql.types import StructType, StructField, StructField, DoubleType, IntegerType\n",
        "schema = StructType([\n",
        "StructField(\"vendor_id\", DoubleType()),\n",
        "StructField(\"passenger_count\", DoubleType()),\n",
        "StructField(\"trip_distance\", DoubleType()),\n",
        "StructField(\"pickup_longitude\", DoubleType()),\n",
        "StructField(\"pickup_latitude\", DoubleType()),\n",
        "StructField(\"rate_code\", DoubleType()),\n",
        "StructField(\"store_and_fwd\", DoubleType()),\n",
        "StructField(\"dropoff_longitude\", DoubleType()),\n",
        "StructField(\"dropoff_latitude\", DoubleType()),\n",
        "StructField(\"fare_amount\", DoubleType()),\n",
        "StructField(\"hour\", DoubleType()),\n",
        "StructField(\"year\", IntegerType()),\n",
        "StructField(\"month\", IntegerType()),\n",
        "StructField(\"day\", DoubleType()),\n",
        "StructField(\"day_of_week\", DoubleType()),\n",
        "StructField(\"is_weekend\", DoubleType()) ])"
      ],
      "execution_count": 13,
      "outputs": [
        {
          "output_type": "stream",
          "text": [
            "time: 16.4 ms (started: 2021-04-17 15:11:51 +00:00)\n"
          ],
          "name": "stdout"
        }
      ]
    },
    {
      "cell_type": "code",
      "metadata": {
        "colab": {
          "base_uri": "https://localhost:8080/"
        },
        "id": "Wo6o-T7FZB_G",
        "outputId": "6f882c6f-f81b-40dd-a19f-ed761d21c9d8"
      },
      "source": [
        "from pyspark.sql import SparkSession\n",
        "spark = SparkSession.builder.appName(\"Taxi\").getOrCreate()"
      ],
      "execution_count": 16,
      "outputs": [
        {
          "output_type": "stream",
          "text": [
            "time: 7.88 s (started: 2021-04-17 15:15:36 +00:00)\n"
          ],
          "name": "stdout"
        }
      ]
    },
    {
      "cell_type": "code",
      "metadata": {
        "colab": {
          "base_uri": "https://localhost:8080/"
        },
        "id": "SdUFP6M2XvOH",
        "outputId": "06953b8c-4f33-438b-f344-d447e296ccee"
      },
      "source": [
        "# load data into dataframe and cache\n",
        "train_df = spark.read.option(\"inferSchema\", False).schema(schema).option(\"header\", True).csv(train_file)"
      ],
      "execution_count": 20,
      "outputs": [
        {
          "output_type": "stream",
          "text": [
            "time: 113 ms (started: 2021-04-17 15:22:08 +00:00)\n"
          ],
          "name": "stdout"
        }
      ]
    },
    {
      "cell_type": "code",
      "metadata": {
        "colab": {
          "base_uri": "https://localhost:8080/"
        },
        "id": "NbfxKN4IaqFZ",
        "outputId": "4915853e-8b5d-4789-cf3b-7884e50d0a67"
      },
      "source": [
        "# cache data in coulmnar format in memory\n",
        "train_df.cache"
      ],
      "execution_count": 21,
      "outputs": [
        {
          "output_type": "execute_result",
          "data": {
            "text/plain": [
              "<bound method DataFrame.cache of DataFrame[vendor_id: double, passenger_count: double, trip_distance: double, pickup_longitude: double, pickup_latitude: double, rate_code: double, store_and_fwd: double, dropoff_longitude: double, dropoff_latitude: double, fare_amount: double, hour: double, year: int, month: int, day: double, day_of_week: double, is_weekend: double]>"
            ]
          },
          "metadata": {
            "tags": []
          },
          "execution_count": 21
        },
        {
          "output_type": "stream",
          "text": [
            "time: 7.91 ms (started: 2021-04-17 15:22:10 +00:00)\n"
          ],
          "name": "stdout"
        }
      ]
    },
    {
      "cell_type": "code",
      "metadata": {
        "colab": {
          "base_uri": "https://localhost:8080/"
        },
        "id": "KgoRPigqap_-",
        "outputId": "09cd3649-b165-4833-e243-2088aad3bb16"
      },
      "source": [
        "# create table view of dataframe for sparksql\n",
        "train_df.createOrReplaceTempView(\"train_taxi\")"
      ],
      "execution_count": 22,
      "outputs": [
        {
          "output_type": "stream",
          "text": [
            "time: 792 ms (started: 2021-04-17 15:22:28 +00:00)\n"
          ],
          "name": "stdout"
        }
      ]
    },
    {
      "cell_type": "code",
      "metadata": {
        "colab": {
          "base_uri": "https://localhost:8080/"
        },
        "id": "6l8KiFKMap5c",
        "outputId": "ca5740e1-c5f2-4eff-d1a3-d4810d2bee45"
      },
      "source": [
        "# cache table in columnar format in memory\n",
        "spark.catalog.cacheTable(\"train_taxi\")"
      ],
      "execution_count": 23,
      "outputs": [
        {
          "output_type": "stream",
          "text": [
            "time: 203 ms (started: 2021-04-17 15:23:52 +00:00)\n"
          ],
          "name": "stdout"
        }
      ]
    },
    {
      "cell_type": "code",
      "metadata": {
        "colab": {
          "base_uri": "https://localhost:8080/",
          "height": 130
        },
        "id": "G-jIYXJnapwK",
        "outputId": "ed30f327-b90e-4938-dd3c-6ddf70a35906"
      },
      "source": [
        "# after df is registered as a table view in memory we directly use spark sql\n",
        "!%sql\n",
        "select hour, avg(fair_amount) from train_taxi group by hour order by hour # doesn't work in colab"
      ],
      "execution_count": 30,
      "outputs": [
        {
          "output_type": "error",
          "ename": "SyntaxError",
          "evalue": "ignored",
          "traceback": [
            "\u001b[0;36m  File \u001b[0;32m\"<ipython-input-30-0ec623021870>\"\u001b[0;36m, line \u001b[0;32m3\u001b[0m\n\u001b[0;31m    select hour, avg(fair_amount) from train_taxi group by hour order by hour\u001b[0m\n\u001b[0m              ^\u001b[0m\n\u001b[0;31mSyntaxError\u001b[0m\u001b[0;31m:\u001b[0m invalid syntax\n"
          ]
        }
      ]
    },
    {
      "cell_type": "code",
      "metadata": {
        "colab": {
          "base_uri": "https://localhost:8080/"
        },
        "id": "OeXfZ8ikXvQt",
        "outputId": "2ba11058-2064-4098-f835-8789362c84bb"
      },
      "source": [
        "# same thing on dataframe\n",
        "train_df.select(\"hour\",\"fare_amount\").groupBy(\"hour\").avg(\"fare_amount\").orderBy(\"hour\").show(5)"
      ],
      "execution_count": 40,
      "outputs": [
        {
          "output_type": "stream",
          "text": [
            "+----+------------------+\n",
            "|hour|  avg(fare_amount)|\n",
            "+----+------------------+\n",
            "| 0.0|11.083333333333334|\n",
            "| 1.0|22.581632653061224|\n",
            "| 2.0|11.370820668693009|\n",
            "| 3.0|13.873989218328841|\n",
            "| 4.0| 14.57204433497537|\n",
            "+----+------------------+\n",
            "only showing top 5 rows\n",
            "\n",
            "time: 2.36 s (started: 2021-04-17 15:38:01 +00:00)\n"
          ],
          "name": "stdout"
        }
      ]
    },
    {
      "cell_type": "code",
      "metadata": {
        "colab": {
          "base_uri": "https://localhost:8080/",
          "height": 314
        },
        "id": "hyiDeuGJXvTN",
        "outputId": "9d6cabbe-5a8c-4c45-ddda-9d02c709ba7d"
      },
      "source": [
        "# what is avg fare amount compared to avg trip distance\n",
        "train_df.columns\n",
        "dist_vs_fare = train_df.select(\"trip_distance\", \"fare_amount\").orderBy(\"trip_distance\")\n",
        "pd_dist_vs_fare = dist_vs_fare.toPandas()\n",
        "pd_dist_vs_fare.plot(x=\"trip_distance\", y=\"fare_amount\", kind=\"line\", logy=False)"
      ],
      "execution_count": 50,
      "outputs": [
        {
          "output_type": "execute_result",
          "data": {
            "text/plain": [
              "<matplotlib.axes._subplots.AxesSubplot at 0x7fa9333faf50>"
            ]
          },
          "metadata": {
            "tags": []
          },
          "execution_count": 50
        },
        {
          "output_type": "display_data",
          "data": {
            "image/png": "[encoded data removed]",
            "text/plain": [
              "<Figure size 432x288 with 1 Axes>"
            ]
          },
          "metadata": {
            "tags": [],
            "needs_background": "light"
          }
        },
        {
          "output_type": "stream",
          "text": [
            "time: 2.2 s (started: 2021-04-17 15:49:51 +00:00)\n"
          ],
          "name": "stdout"
        }
      ]
    },
    {
      "cell_type": "code",
      "metadata": {
        "colab": {
          "base_uri": "https://localhost:8080/"
        },
        "id": "pGtTr3iYXvVr",
        "outputId": "eed84b44-909c-4ff0-b18e-b0fc8918256b"
      },
      "source": [
        "# what is avg fare amt and avg trip distance by hour of day\n",
        "avgs = train_df.select(\"hour\", \"trip_distance\", \"fare_amount\").groupBy(\"hour\").avg(\"trip_distance\", \"fare_amount\").orderBy(\"hour\")#.show()\n"
      ],
      "execution_count": 56,
      "outputs": [
        {
          "output_type": "stream",
          "text": [
            "time: 73.9 ms (started: 2021-04-17 15:55:27 +00:00)\n"
          ],
          "name": "stdout"
        }
      ]
    },
    {
      "cell_type": "code",
      "metadata": {
        "colab": {
          "base_uri": "https://localhost:8080/",
          "height": 490
        },
        "id": "VwlbZtf_XvYK",
        "outputId": "87fa40d6-d6be-47c8-962b-df11832ab6d6"
      },
      "source": [
        "pd_avgs = avgs.toPandas()\n",
        "pd_avgs.plot(kind=\"bar\", x=\"hour\", figsize=(20,7))"
      ],
      "execution_count": 63,
      "outputs": [
        {
          "output_type": "execute_result",
          "data": {
            "text/plain": [
              "<matplotlib.axes._subplots.AxesSubplot at 0x7fa932e9b1d0>"
            ]
          },
          "metadata": {
            "tags": []
          },
          "execution_count": 63
        },
        {
          "output_type": "display_data",
          "data": {
            "image/png": "[encoded data removed]",
            "text/plain": [
              "<Figure size 1440x504 with 1 Axes>"
            ]
          },
          "metadata": {
            "tags": [],
            "needs_background": "light"
          }
        },
        {
          "output_type": "stream",
          "text": [
            "time: 860 ms (started: 2021-04-17 15:59:35 +00:00)\n"
          ],
          "name": "stdout"
        }
      ]
    },
    {
      "cell_type": "code",
      "metadata": {
        "colab": {
          "base_uri": "https://localhost:8080/",
          "height": 377
        },
        "id": "mlcmm5VhXvbf",
        "outputId": "9f0f0b0a-44a3-4b8c-a207-d1401369ec2a"
      },
      "source": [
        "# average trip distance and avg fare amout by rate_code\n",
        "avgs_by_rate_code = train_df.select(\"rate_code\", \"trip_distance\", \"fare_amount\").groupBy(\"rate_code\").avg(\"trip_distance\", \"fare_amount\").orderBy(\"rate_code\")\n",
        "avgs_by_rate_code.toPandas().plot(kind=\"bar\", x=\"rate_code\")"
      ],
      "execution_count": 71,
      "outputs": [
        {
          "output_type": "execute_result",
          "data": {
            "text/plain": [
              "<matplotlib.axes._subplots.AxesSubplot at 0x7fa932981c90>"
            ]
          },
          "metadata": {
            "tags": []
          },
          "execution_count": 71
        },
        {
          "output_type": "display_data",
          "data": {
            "image/png": "[encoded data removed]",
            "text/plain": [
              "<Figure size 432x288 with 1 Axes>"
            ]
          },
          "metadata": {
            "tags": [],
            "needs_background": "light"
          }
        },
        {
          "output_type": "stream",
          "text": [
            "time: 3.25 s (started: 2021-04-17 16:07:05 +00:00)\n"
          ],
          "name": "stdout"
        }
      ]
    },
    {
      "cell_type": "code",
      "metadata": {
        "colab": {
          "base_uri": "https://localhost:8080/",
          "height": 320
        },
        "id": "3J6Eahk0Xvdg",
        "outputId": "2cbe1324-22a6-4838-a008-3b4b0a514206"
      },
      "source": [
        "# avg fare amount and avg distance by day of week\n",
        "avgs_by_weekday = train_df.select(\"day_of_week\", \"trip_distance\", \"fare_amount\").groupBy(\"day_of_week\").avg(\"trip_distance\", \"fare_amount\").orderBy(\"day_of_week\")\n",
        "avgs_by_weekday.toPandas().plot(kind=\"bar\", x=\"day_of_week\")"
      ],
      "execution_count": 75,
      "outputs": [
        {
          "output_type": "execute_result",
          "data": {
            "text/plain": [
              "<matplotlib.axes._subplots.AxesSubplot at 0x7fa9327f9990>"
            ]
          },
          "metadata": {
            "tags": []
          },
          "execution_count": 75
        },
        {
          "output_type": "display_data",
          "data": {
            "image/png": "[encoded data removed]",
            "text/plain": [
              "<Figure size 432x288 with 1 Axes>"
            ]
          },
          "metadata": {
            "tags": [],
            "needs_background": "light"
          }
        },
        {
          "output_type": "stream",
          "text": [
            "time: 2.91 s (started: 2021-04-17 16:09:39 +00:00)\n"
          ],
          "name": "stdout"
        }
      ]
    },
    {
      "cell_type": "code",
      "metadata": {
        "id": "7M20vWmyXvf9"
      },
      "source": [
        ""
      ],
      "execution_count": null,
      "outputs": []
    },
    {
      "cell_type": "code",
      "metadata": {
        "id": "WtTT-fpXXviv"
      },
      "source": [
        ""
      ],
      "execution_count": null,
      "outputs": []
    },
    {
      "cell_type": "code",
      "metadata": {
        "id": "iud3c6fAXvll"
      },
      "source": [
        ""
      ],
      "execution_count": null,
      "outputs": []
    },
    {
      "cell_type": "code",
      "metadata": {
        "id": "K2kLnk7rXvon"
      },
      "source": [
        ""
      ],
      "execution_count": null,
      "outputs": []
    }
  ]
}