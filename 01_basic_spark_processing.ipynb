{
  "nbformat": 4,
  "nbformat_minor": 0,
  "metadata": {
    "colab": {
      "name": "01_basic_spark_processing.ipynb",
      "provenance": [],
      "collapsed_sections": [],
      "authorship_tag": "ABX9TyM9xpApOEoSwt+w40ht91BQ",
      "include_colab_link": true
    },
    "kernelspec": {
      "name": "python3",
      "display_name": "Python 3"
    },
    "language_info": {
      "name": "python"
    }
  },
  "cells": [
    {
      "cell_type": "markdown",
      "metadata": {
        "id": "view-in-github",
        "colab_type": "text"
      },
      "source": [
        "<a href=\"https://colab.research.google.com/github/Richish/spark_on_gpus/blob/main/01_basic_spark_processing.ipynb\" target=\"_parent\"><img src=\"https://colab.research.google.com/assets/colab-badge.svg\" alt=\"Open In Colab\"/></a>"
      ]
    },
    {
      "cell_type": "code",
      "metadata": {
        "id": "_TruDUxWLR_J"
      },
      "source": [
        "# imports\n",
        "#! pip install pyspark\n",
        "import pyspark\n",
        "import pandas as pd"
      ],
      "execution_count": 19,
      "outputs": []
    },
    {
      "cell_type": "code",
      "metadata": {
        "colab": {
          "base_uri": "https://localhost:8080/"
        },
        "id": "aCL1tSabOrQI",
        "outputId": "0686c740-61b7-4b15-d211-2c4e1dce3d62"
      },
      "source": [
        "# connecting to drive\n",
        "from google.colab import drive\n",
        "drive.mount('/content/drive/')"
      ],
      "execution_count": 5,
      "outputs": [
        {
          "output_type": "stream",
          "text": [
            "Mounted at /content/drive/\n"
          ],
          "name": "stdout"
        }
      ]
    },
    {
      "cell_type": "code",
      "metadata": {
        "colab": {
          "base_uri": "https://localhost:8080/"
        },
        "id": "nFf1Q9aKOrVm",
        "outputId": "38ea531d-cfb1-4470-f956-3963072497c2"
      },
      "source": [
        "# finding data\n",
        "! ls /content/drive/MyDrive/colab_notebooks/datasets/taxi-small/trainWithEval"
      ],
      "execution_count": 18,
      "outputs": [
        {
          "output_type": "stream",
          "text": [
            "test.csv\n"
          ],
          "name": "stdout"
        }
      ]
    },
    {
      "cell_type": "code",
      "metadata": {
        "id": "yR1CTq2zOrYR"
      },
      "source": [
        "train_file = \"/content/drive/MyDrive/colab_notebooks/datasets/taxi-small/train/taxi-small.csv\"\n",
        "eval_file = \"/content/drive/MyDrive/colab_notebooks/datasets/taxi-small/eval/taxi-small.csv\"\n",
        "test_file = \"/content/drive/MyDrive/colab_notebooks/datasets/taxi-small/trainWithEval/test.csv\""
      ],
      "execution_count": 21,
      "outputs": []
    },
    {
      "cell_type": "code",
      "metadata": {
        "colab": {
          "base_uri": "https://localhost:8080/"
        },
        "id": "yeJesEs5Ora6",
        "outputId": "0f786344-f37e-40bf-c694-aed60a12554f"
      },
      "source": [
        "# creating pandas dfs\n",
        "train_df, eval_df, test_df = pd.read_csv(train_file), pd.read_csv(eval_file), pd.read_csv(test_file)\n",
        "train_df, eval_df, test_df"
      ],
      "execution_count": 22,
      "outputs": [
        {
          "output_type": "execute_result",
          "data": {
            "text/plain": [
              "(      452563162  1   1.74  -73.99114500000002  ...  13  6.0  1.0  2.6339725754785412\n",
              " 0     452563162  5   2.72          -73.948132  ...  13  6.0  1.0            4.025153\n",
              " 1     452563162  1   0.94          -73.982477  ...  13  6.0  1.0            1.153509\n",
              " 2     452563162  1   3.63          -73.977707  ...  13  6.0  1.0            5.170668\n",
              " 3     452563162  2  11.86          -73.864075  ...  13  6.0  1.0           12.644747\n",
              " 4     452563162  5   3.03          -73.970228  ...  13  6.0  1.0            3.869515\n",
              " ...         ... ..    ...                 ...  ...  ..  ...  ...                 ...\n",
              " 7994  452563162  1   2.10          -73.977258  ...  13  6.0  1.0            3.053085\n",
              " 7995  452563162  1   3.33          -73.991152  ...  13  6.0  1.0            5.412012\n",
              " 7996  452563162  1   4.28          -74.002435  ...  13  6.0  1.0            4.941396\n",
              " 7997  452563162  1   1.04          -73.983282  ...  13  6.0  1.0            1.488445\n",
              " 7998  452563162  1   0.63          -73.983223  ...  13  6.0  1.0            0.728790\n",
              " \n",
              " [7999 rows x 17 columns],\n",
              "       1559730423  1    1.1  -74.004711  ...   5  5.0  1.0  1.377170009983808\n",
              " 0     1559730423  2   0.70  -73.974600  ...   7  0.0  0.0           0.855496\n",
              " 1     1559730423  3  10.70  -73.989937  ...   7  0.0  0.0          10.607084\n",
              " 2     1559730423  1   2.30  -73.988510  ...   7  0.0  0.0           2.199657\n",
              " 3     1559730423  1   4.40  -74.010394  ...  10  3.0  0.0           5.599242\n",
              " 4     1559730423  1   1.50  -73.992113  ...   7  0.0  0.0           1.715646\n",
              " ...          ... ..    ...         ...  ...  ..  ...  ...                ...\n",
              " 1994   452563162  2   7.94  -73.975508  ...  13  6.0  1.0          11.294933\n",
              " 1995   452563162  1   2.54  -73.948240  ...  13  6.0  1.0           2.801927\n",
              " 1996   452563162  3   3.56  -73.979407  ...  13  6.0  1.0           3.955287\n",
              " 1997   452563162  4  16.50  -73.792330  ...  13  6.0  1.0          19.351196\n",
              " 1998   452563162  3   0.00  -73.971717  ...  13  6.0  1.0           0.000000\n",
              " \n",
              " [1999 rows x 17 columns],\n",
              "       1559730423  4   1.0  -73.978165  ...   1  1.0.1  0.0  1.2399794628845693\n",
              " 0     1559730423  1  1.50  -74.006680  ...   6    6.0  1.0            2.335097\n",
              " 1     1559730423  1  2.10  -73.976252  ...   7    0.0  0.0            2.217939\n",
              " 2     1559730423  1  1.70  -73.966743  ...   7    0.0  0.0            2.670627\n",
              " 3     1559730423  1  0.80  -73.995801  ...   8    1.0  0.0            0.978902\n",
              " 4     1559730423  1  0.80  -73.980071  ...   7    0.0  0.0            0.894911\n",
              " ...          ... ..   ...         ...  ...  ..    ...  ...                 ...\n",
              " 1994   452563162  5  2.53  -73.992540  ...  13    6.0  1.0            2.974497\n",
              " 1995   452563162  1  4.95  -73.962243  ...  13    6.0  1.0            6.002747\n",
              " 1996   452563162  1  3.45  -74.000080  ...  13    6.0  1.0            3.748066\n",
              " 1997   452563162  1  1.71  -73.948492  ...  13    6.0  1.0            1.999909\n",
              " 1998   452563162  2  1.02  -73.965617  ...  13    6.0  1.0            1.200855\n",
              " \n",
              " [1999 rows x 17 columns])"
            ]
          },
          "metadata": {
            "tags": []
          },
          "execution_count": 22
        }
      ]
    },
    {
      "cell_type": "code",
      "metadata": {
        "colab": {
          "base_uri": "https://localhost:8080/"
        },
        "id": "4Jui0eXFOrdn",
        "outputId": "8a27400e-2608-45b4-84f0-34492676765e"
      },
      "source": [
        "train_df.info()"
      ],
      "execution_count": 23,
      "outputs": [
        {
          "output_type": "stream",
          "text": [
            "<class 'pandas.core.frame.DataFrame'>\n",
            "RangeIndex: 7999 entries, 0 to 7998\n",
            "Data columns (total 17 columns):\n",
            " #   Column              Non-Null Count  Dtype  \n",
            "---  ------              --------------  -----  \n",
            " 0   452563162           7999 non-null   int64  \n",
            " 1   1                   7999 non-null   int64  \n",
            " 2   1.74                7999 non-null   float64\n",
            " 3   -73.99114500000002  7999 non-null   float64\n",
            " 4   40.76553700000001   7999 non-null   float64\n",
            " 5   -677418915          7999 non-null   int64  \n",
            " 6   -1                  7999 non-null   int64  \n",
            " 7   -73.97599199999999  7999 non-null   float64\n",
            " 8   40.786277000000005  7999 non-null   float64\n",
            " 9   7.5                 7999 non-null   float64\n",
            " 10  10                  7999 non-null   int64  \n",
            " 11  2012                7999 non-null   int64  \n",
            " 12  11                  7999 non-null   int64  \n",
            " 13  13                  7999 non-null   int64  \n",
            " 14  6.0                 7999 non-null   float64\n",
            " 15  1.0                 7999 non-null   float64\n",
            " 16  2.6339725754785412  7999 non-null   float64\n",
            "dtypes: float64(9), int64(8)\n",
            "memory usage: 1.0 MB\n"
          ],
          "name": "stdout"
        }
      ]
    },
    {
      "cell_type": "code",
      "metadata": {
        "id": "pthPoGuNOrgl"
      },
      "source": [
        "# getting to spark\n",
        "# creating spark session\n",
        "from pyspark.sql import SparkSession\n",
        "from pyspark.sql.functions import count\n",
        "\n",
        "spark = SparkSession.builder.appName(\"Taxi\").getOrCreate()"
      ],
      "execution_count": 28,
      "outputs": []
    },
    {
      "cell_type": "code",
      "metadata": {
        "id": "YBcu328yOrjv"
      },
      "source": [
        "train_df = spark.read.csv(train_file)"
      ],
      "execution_count": 29,
      "outputs": []
    },
    {
      "cell_type": "code",
      "metadata": {
        "colab": {
          "base_uri": "https://localhost:8080/"
        },
        "id": "9BhwPMZlOrnF",
        "outputId": "2a79fa2d-5a57-4c80-cadf-23f943605134"
      },
      "source": [
        "train_df.head()"
      ],
      "execution_count": 27,
      "outputs": [
        {
          "output_type": "execute_result",
          "data": {
            "text/plain": [
              "Row(_c0='452563162', _c1='1', _c2='1.74', _c3='-73.99114500000002', _c4='40.76553700000001', _c5='-677418915', _c6='-1', _c7='-73.97599199999999', _c8='40.786277000000005', _c9='7.5', _c10='10', _c11='2012', _c12='11', _c13='13', _c14='6.0', _c15='1.0', _c16='2.6339725754785412')"
            ]
          },
          "metadata": {
            "tags": []
          },
          "execution_count": 27
        }
      ]
    },
    {
      "cell_type": "code",
      "metadata": {
        "id": "iVn5EzGpOrps"
      },
      "source": [
        "# creating schema for the dataframe\n",
        "from pyspark.sql.types import StructType, StructField, StructField, DoubleType, IntegerType\n",
        "schema = StructType([\n",
        "StructField(\"vendor_id\", DoubleType()),\n",
        "StructField(\"passenger_count\", DoubleType()),\n",
        "StructField(\"trip_distance\", DoubleType()),\n",
        "StructField(\"pickup_longitude\", DoubleType()),\n",
        "StructField(\"pickup_latitude\", DoubleType()),\n",
        "StructField(\"rate_code\", DoubleType()),\n",
        "StructField(\"store_and_fwd\", DoubleType()),\n",
        "StructField(\"dropoff_longitude\", DoubleType()),\n",
        "StructField(\"dropoff_latitude\", DoubleType()),\n",
        "StructField(\"fare_amount\", DoubleType()),\n",
        "StructField(\"hour\", DoubleType()),\n",
        "StructField(\"year\", IntegerType()),\n",
        "StructField(\"month\", IntegerType()),\n",
        "StructField(\"day\", DoubleType()),\n",
        "StructField(\"day_of_week\", DoubleType()),\n",
        "StructField(\"is_weekend\", DoubleType()) ])"
      ],
      "execution_count": 41,
      "outputs": []
    },
    {
      "cell_type": "code",
      "metadata": {
        "colab": {
          "base_uri": "https://localhost:8080/"
        },
        "id": "1de9XWhfOrsm",
        "outputId": "04faf2c8-74c7-43a3-a63b-045911275c1a"
      },
      "source": [
        "# putting schema to the dataframe\n",
        "train_df = spark.read.option(\"infer_schema\", False).option(\"header\", True).schema(schema).csv(train_file)\n",
        "train_df.head()"
      ],
      "execution_count": 43,
      "outputs": [
        {
          "output_type": "execute_result",
          "data": {
            "text/plain": [
              "Row(vendor_id=452563162.0, passenger_count=5.0, trip_distance=2.72, pickup_longitude=-73.948132, pickup_latitude=40.829826999999995, rate_code=-677418915.0, store_and_fwd=-1.0, dropoff_longitude=-73.969648, dropoff_latitude=40.797472000000006, fare_amount=11.5, hour=10.0, year=2012, month=11, day=13.0, day_of_week=6.0, is_weekend=1.0)"
            ]
          },
          "metadata": {
            "tags": []
          },
          "execution_count": 43
        }
      ]
    },
    {
      "cell_type": "code",
      "metadata": {
        "colab": {
          "base_uri": "https://localhost:8080/"
        },
        "id": "bianpj4bdZvo",
        "outputId": "15923d07-3916-4d08-bc02-aca0fe147339"
      },
      "source": [
        "train_df.show(1)"
      ],
      "execution_count": 45,
      "outputs": [
        {
          "output_type": "stream",
          "text": [
            "+------------+---------------+-------------+----------------+------------------+-------------+-------------+-----------------+------------------+-----------+----+----+-----+----+-----------+----------+\n",
            "|   vendor_id|passenger_count|trip_distance|pickup_longitude|   pickup_latitude|    rate_code|store_and_fwd|dropoff_longitude|  dropoff_latitude|fare_amount|hour|year|month| day|day_of_week|is_weekend|\n",
            "+------------+---------------+-------------+----------------+------------------+-------------+-------------+-----------------+------------------+-----------+----+----+-----+----+-----------+----------+\n",
            "|4.52563162E8|            5.0|         2.72|      -73.948132|40.829826999999995|-6.77418915E8|         -1.0|       -73.969648|40.797472000000006|       11.5|10.0|2012|   11|13.0|        6.0|       1.0|\n",
            "+------------+---------------+-------------+----------------+------------------+-------------+-------------+-----------------+------------------+-----------+----+----+-----+----+-----------+----------+\n",
            "only showing top 1 row\n",
            "\n"
          ],
          "name": "stdout"
        }
      ]
    },
    {
      "cell_type": "code",
      "metadata": {
        "colab": {
          "base_uri": "https://localhost:8080/"
        },
        "id": "tCnPvKD1dtfZ",
        "outputId": "8c5f4f5e-5c3c-4f01-d845-ee685c50b8c2"
      },
      "source": [
        "# select join groupby\n",
        "train_df.groupby(\"hour\").count().sort(\"hour\").show()"
      ],
      "execution_count": 53,
      "outputs": [
        {
          "output_type": "stream",
          "text": [
            "+----+-----+\n",
            "|hour|count|\n",
            "+----+-----+\n",
            "| 0.0|   12|\n",
            "| 1.0|   49|\n",
            "| 2.0|  658|\n",
            "| 3.0|  742|\n",
            "| 4.0|  812|\n",
            "| 5.0|   89|\n",
            "| 6.0|  464|\n",
            "| 7.0|  678|\n",
            "| 8.0|  364|\n",
            "| 9.0| 1055|\n",
            "|10.0| 1303|\n",
            "|11.0| 1422|\n",
            "|12.0|  321|\n",
            "|13.0|    3|\n",
            "|14.0|    3|\n",
            "|16.0|    4|\n",
            "|17.0|    2|\n",
            "|18.0|    5|\n",
            "|19.0|    4|\n",
            "|21.0|    4|\n",
            "+----+-----+\n",
            "only showing top 20 rows\n",
            "\n"
          ],
          "name": "stdout"
        }
      ]
    },
    {
      "cell_type": "code",
      "metadata": {
        "colab": {
          "base_uri": "https://localhost:8080/"
        },
        "id": "whbZQm4zeotk",
        "outputId": "36180b59-4b39-4348-da40-a58a3bdf27fe"
      },
      "source": [
        "# filters\n",
        "train_df.select(\"hour\", \"fare_amount\").filter(\"hour==0\").show(5)"
      ],
      "execution_count": 58,
      "outputs": [
        {
          "output_type": "stream",
          "text": [
            "+----+-----------+\n",
            "|hour|fare_amount|\n",
            "+----+-----------+\n",
            "| 0.0|       10.5|\n",
            "| 0.0|       12.5|\n",
            "| 0.0|       11.0|\n",
            "| 0.0|        7.5|\n",
            "| 0.0|       18.5|\n",
            "+----+-----------+\n",
            "only showing top 5 rows\n",
            "\n"
          ],
          "name": "stdout"
        }
      ]
    }
  ]
}