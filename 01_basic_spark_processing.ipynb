{
  "nbformat": 4,
  "nbformat_minor": 0,
  "metadata": {
    "colab": {
      "name": "01_basic_spark_processing.ipynb",
      "provenance": [],
      "collapsed_sections": [],
      "authorship_tag": "ABX9TyN9zqbbA7KTQqN2VFqJZTVj",
      "include_colab_link": true
    },
    "kernelspec": {
      "name": "python3",
      "display_name": "Python 3"
    },
    "language_info": {
      "name": "python"
    }
  },
  "cells": [
    {
      "cell_type": "markdown",
      "metadata": {
        "id": "view-in-github",
        "colab_type": "text"
      },
      "source": [
        "<a href=\"https://colab.research.google.com/github/Richish/spark_on_gpus/blob/main/01_basic_spark_processing.ipynb\" target=\"_parent\"><img src=\"https://colab.research.google.com/assets/colab-badge.svg\" alt=\"Open In Colab\"/></a>"
      ]
    },
    {
      "cell_type": "code",
      "metadata": {
        "id": "_TruDUxWLR_J",
        "outputId": "02a8f668-f3cd-448c-83a0-da619239de74",
        "colab": {
          "base_uri": "https://localhost:8080/"
        }
      },
      "source": [
        "# imports\n",
        "! pip install pyspark\n",
        "import pyspark\n",
        "import pandas as pd"
      ],
      "execution_count": 2,
      "outputs": [
        {
          "output_type": "stream",
          "text": [
            "Collecting pyspark\n",
            "\u001b[?25l  Downloading https://files.pythonhosted.org/packages/45/b0/9d6860891ab14a39d4bddf80ba26ce51c2f9dc4805e5c6978ac0472c120a/pyspark-3.1.1.tar.gz (212.3MB)\n",
            "\u001b[K     |████████████████████████████████| 212.3MB 79kB/s \n",
            "\u001b[?25hCollecting py4j==0.10.9\n",
            "\u001b[?25l  Downloading https://files.pythonhosted.org/packages/9e/b6/6a4fb90cd235dc8e265a6a2067f2a2c99f0d91787f06aca4bcf7c23f3f80/py4j-0.10.9-py2.py3-none-any.whl (198kB)\n",
            "\u001b[K     |████████████████████████████████| 204kB 43.0MB/s \n",
            "\u001b[?25hBuilding wheels for collected packages: pyspark\n",
            "  Building wheel for pyspark (setup.py) ... \u001b[?25l\u001b[?25hdone\n",
            "  Created wheel for pyspark: filename=pyspark-3.1.1-py2.py3-none-any.whl size=212767604 sha256=5c98728347da6a8266f54a5cd7df9e37b185ce8a907b517582770b3b234ee5ce\n",
            "  Stored in directory: /root/.cache/pip/wheels/0b/90/c0/01de724414ef122bd05f056541fb6a0ecf47c7ca655f8b3c0f\n",
            "Successfully built pyspark\n",
            "Installing collected packages: py4j, pyspark\n",
            "Successfully installed py4j-0.10.9 pyspark-3.1.1\n"
          ],
          "name": "stdout"
        }
      ]
    },
    {
      "cell_type": "code",
      "metadata": {
        "id": "bJTG8b5QT8YA",
        "outputId": "05936746-6959-4b1c-a91a-c2cc506ae297",
        "colab": {
          "base_uri": "https://localhost:8080/"
        }
      },
      "source": [
        "!pip install ipython-autotime\n",
        "%load_ext autotime"
      ],
      "execution_count": 13,
      "outputs": [
        {
          "output_type": "stream",
          "text": [
            "Collecting ipython-autotime\n",
            "  Downloading https://files.pythonhosted.org/packages/b4/c9/b413a24f759641bc27ef98c144b590023c8038dfb8a3f09e713e9dff12c1/ipython_autotime-0.3.1-py2.py3-none-any.whl\n",
            "Requirement already satisfied: ipython in /usr/local/lib/python3.7/dist-packages (from ipython-autotime) (5.5.0)\n",
            "Requirement already satisfied: pickleshare in /usr/local/lib/python3.7/dist-packages (from ipython->ipython-autotime) (0.7.5)\n",
            "Requirement already satisfied: pexpect; sys_platform != \"win32\" in /usr/local/lib/python3.7/dist-packages (from ipython->ipython-autotime) (4.8.0)\n",
            "Requirement already satisfied: prompt-toolkit<2.0.0,>=1.0.4 in /usr/local/lib/python3.7/dist-packages (from ipython->ipython-autotime) (1.0.18)\n",
            "Requirement already satisfied: decorator in /usr/local/lib/python3.7/dist-packages (from ipython->ipython-autotime) (4.4.2)\n",
            "Requirement already satisfied: setuptools>=18.5 in /usr/local/lib/python3.7/dist-packages (from ipython->ipython-autotime) (54.2.0)\n",
            "Requirement already satisfied: pygments in /usr/local/lib/python3.7/dist-packages (from ipython->ipython-autotime) (2.6.1)\n",
            "Requirement already satisfied: simplegeneric>0.8 in /usr/local/lib/python3.7/dist-packages (from ipython->ipython-autotime) (0.8.1)\n",
            "Requirement already satisfied: traitlets>=4.2 in /usr/local/lib/python3.7/dist-packages (from ipython->ipython-autotime) (5.0.5)\n",
            "Requirement already satisfied: ptyprocess>=0.5 in /usr/local/lib/python3.7/dist-packages (from pexpect; sys_platform != \"win32\"->ipython->ipython-autotime) (0.7.0)\n",
            "Requirement already satisfied: wcwidth in /usr/local/lib/python3.7/dist-packages (from prompt-toolkit<2.0.0,>=1.0.4->ipython->ipython-autotime) (0.2.5)\n",
            "Requirement already satisfied: six>=1.9.0 in /usr/local/lib/python3.7/dist-packages (from prompt-toolkit<2.0.0,>=1.0.4->ipython->ipython-autotime) (1.15.0)\n",
            "Requirement already satisfied: ipython-genutils in /usr/local/lib/python3.7/dist-packages (from traitlets>=4.2->ipython->ipython-autotime) (0.2.0)\n",
            "Installing collected packages: ipython-autotime\n",
            "Successfully installed ipython-autotime-0.3.1\n",
            "time: 142 µs (started: 2021-04-17 14:52:07 +00:00)\n"
          ],
          "name": "stdout"
        }
      ]
    },
    {
      "cell_type": "code",
      "metadata": {
        "colab": {
          "base_uri": "https://localhost:8080/"
        },
        "id": "aCL1tSabOrQI",
        "outputId": "1fd999a1-7c03-45da-ff62-9fad28558ade"
      },
      "source": [
        "# connecting to drive\n",
        "from google.colab import drive\n",
        "drive.mount('/content/drive/')"
      ],
      "execution_count": 3,
      "outputs": [
        {
          "output_type": "stream",
          "text": [
            "Mounted at /content/drive/\n"
          ],
          "name": "stdout"
        }
      ]
    },
    {
      "cell_type": "code",
      "metadata": {
        "colab": {
          "base_uri": "https://localhost:8080/"
        },
        "id": "nFf1Q9aKOrVm",
        "outputId": "014ba974-2a0c-4b21-bba7-8ca9e8c4316a"
      },
      "source": [
        "# finding data\n",
        "! ls /content/drive/MyDrive/colab_notebooks/datasets/taxi-small/trainWithEval"
      ],
      "execution_count": 14,
      "outputs": [
        {
          "output_type": "stream",
          "text": [
            "test.csv\n",
            "time: 120 ms (started: 2021-04-17 14:52:17 +00:00)\n"
          ],
          "name": "stdout"
        }
      ]
    },
    {
      "cell_type": "code",
      "metadata": {
        "id": "yR1CTq2zOrYR",
        "outputId": "533fce3f-9252-47b6-86ce-b417d5cad13c",
        "colab": {
          "base_uri": "https://localhost:8080/"
        }
      },
      "source": [
        "train_file = \"/content/drive/MyDrive/colab_notebooks/datasets/taxi-small/train/taxi-small.csv\"\n",
        "eval_file = \"/content/drive/MyDrive/colab_notebooks/datasets/taxi-small/eval/taxi-small.csv\"\n",
        "test_file = \"/content/drive/MyDrive/colab_notebooks/datasets/taxi-small/trainWithEval/test.csv\""
      ],
      "execution_count": 15,
      "outputs": [
        {
          "output_type": "stream",
          "text": [
            "time: 1.36 ms (started: 2021-04-17 14:52:22 +00:00)\n"
          ],
          "name": "stdout"
        }
      ]
    },
    {
      "cell_type": "code",
      "metadata": {
        "colab": {
          "base_uri": "https://localhost:8080/"
        },
        "id": "yeJesEs5Ora6",
        "outputId": "c34e0aaf-3f4d-4ee4-9c21-7ba38ac7217f"
      },
      "source": [
        "# creating pandas dfs\n",
        "train_df, eval_df, test_df = pd.read_csv(train_file), pd.read_csv(eval_file), pd.read_csv(test_file)\n",
        "train_df, eval_df, test_df"
      ],
      "execution_count": 16,
      "outputs": [
        {
          "output_type": "execute_result",
          "data": {
            "text/plain": [
              "(      452563162  1   1.74  -73.99114500000002  ...  13  6.0  1.0  2.6339725754785412\n",
              " 0     452563162  5   2.72          -73.948132  ...  13  6.0  1.0            4.025153\n",
              " 1     452563162  1   0.94          -73.982477  ...  13  6.0  1.0            1.153509\n",
              " 2     452563162  1   3.63          -73.977707  ...  13  6.0  1.0            5.170668\n",
              " 3     452563162  2  11.86          -73.864075  ...  13  6.0  1.0           12.644747\n",
              " 4     452563162  5   3.03          -73.970228  ...  13  6.0  1.0            3.869515\n",
              " ...         ... ..    ...                 ...  ...  ..  ...  ...                 ...\n",
              " 7994  452563162  1   2.10          -73.977258  ...  13  6.0  1.0            3.053085\n",
              " 7995  452563162  1   3.33          -73.991152  ...  13  6.0  1.0            5.412012\n",
              " 7996  452563162  1   4.28          -74.002435  ...  13  6.0  1.0            4.941396\n",
              " 7997  452563162  1   1.04          -73.983282  ...  13  6.0  1.0            1.488445\n",
              " 7998  452563162  1   0.63          -73.983223  ...  13  6.0  1.0            0.728790\n",
              " \n",
              " [7999 rows x 17 columns],\n",
              "       1559730423  1    1.1  -74.004711  ...   5  5.0  1.0  1.377170009983808\n",
              " 0     1559730423  2   0.70  -73.974600  ...   7  0.0  0.0           0.855496\n",
              " 1     1559730423  3  10.70  -73.989937  ...   7  0.0  0.0          10.607084\n",
              " 2     1559730423  1   2.30  -73.988510  ...   7  0.0  0.0           2.199657\n",
              " 3     1559730423  1   4.40  -74.010394  ...  10  3.0  0.0           5.599242\n",
              " 4     1559730423  1   1.50  -73.992113  ...   7  0.0  0.0           1.715646\n",
              " ...          ... ..    ...         ...  ...  ..  ...  ...                ...\n",
              " 1994   452563162  2   7.94  -73.975508  ...  13  6.0  1.0          11.294933\n",
              " 1995   452563162  1   2.54  -73.948240  ...  13  6.0  1.0           2.801927\n",
              " 1996   452563162  3   3.56  -73.979407  ...  13  6.0  1.0           3.955287\n",
              " 1997   452563162  4  16.50  -73.792330  ...  13  6.0  1.0          19.351196\n",
              " 1998   452563162  3   0.00  -73.971717  ...  13  6.0  1.0           0.000000\n",
              " \n",
              " [1999 rows x 17 columns],\n",
              "       1559730423  4   1.0  -73.978165  ...   1  1.0.1  0.0  1.2399794628845693\n",
              " 0     1559730423  1  1.50  -74.006680  ...   6    6.0  1.0            2.335097\n",
              " 1     1559730423  1  2.10  -73.976252  ...   7    0.0  0.0            2.217939\n",
              " 2     1559730423  1  1.70  -73.966743  ...   7    0.0  0.0            2.670627\n",
              " 3     1559730423  1  0.80  -73.995801  ...   8    1.0  0.0            0.978902\n",
              " 4     1559730423  1  0.80  -73.980071  ...   7    0.0  0.0            0.894911\n",
              " ...          ... ..   ...         ...  ...  ..    ...  ...                 ...\n",
              " 1994   452563162  5  2.53  -73.992540  ...  13    6.0  1.0            2.974497\n",
              " 1995   452563162  1  4.95  -73.962243  ...  13    6.0  1.0            6.002747\n",
              " 1996   452563162  1  3.45  -74.000080  ...  13    6.0  1.0            3.748066\n",
              " 1997   452563162  1  1.71  -73.948492  ...  13    6.0  1.0            1.999909\n",
              " 1998   452563162  2  1.02  -73.965617  ...  13    6.0  1.0            1.200855\n",
              " \n",
              " [1999 rows x 17 columns])"
            ]
          },
          "metadata": {
            "tags": []
          },
          "execution_count": 16
        },
        {
          "output_type": "stream",
          "text": [
            "time: 134 ms (started: 2021-04-17 14:52:25 +00:00)\n"
          ],
          "name": "stdout"
        }
      ]
    },
    {
      "cell_type": "code",
      "metadata": {
        "colab": {
          "base_uri": "https://localhost:8080/"
        },
        "id": "4Jui0eXFOrdn",
        "outputId": "e26d2fc5-6374-4ba9-e207-f01cbbdeee5b"
      },
      "source": [
        "train_df.info()"
      ],
      "execution_count": 17,
      "outputs": [
        {
          "output_type": "stream",
          "text": [
            "<class 'pandas.core.frame.DataFrame'>\n",
            "RangeIndex: 7999 entries, 0 to 7998\n",
            "Data columns (total 17 columns):\n",
            " #   Column              Non-Null Count  Dtype  \n",
            "---  ------              --------------  -----  \n",
            " 0   452563162           7999 non-null   int64  \n",
            " 1   1                   7999 non-null   int64  \n",
            " 2   1.74                7999 non-null   float64\n",
            " 3   -73.99114500000002  7999 non-null   float64\n",
            " 4   40.76553700000001   7999 non-null   float64\n",
            " 5   -677418915          7999 non-null   int64  \n",
            " 6   -1                  7999 non-null   int64  \n",
            " 7   -73.97599199999999  7999 non-null   float64\n",
            " 8   40.786277000000005  7999 non-null   float64\n",
            " 9   7.5                 7999 non-null   float64\n",
            " 10  10                  7999 non-null   int64  \n",
            " 11  2012                7999 non-null   int64  \n",
            " 12  11                  7999 non-null   int64  \n",
            " 13  13                  7999 non-null   int64  \n",
            " 14  6.0                 7999 non-null   float64\n",
            " 15  1.0                 7999 non-null   float64\n",
            " 16  2.6339725754785412  7999 non-null   float64\n",
            "dtypes: float64(9), int64(8)\n",
            "memory usage: 1.0 MB\n",
            "time: 16.7 ms (started: 2021-04-17 14:52:53 +00:00)\n"
          ],
          "name": "stdout"
        }
      ]
    },
    {
      "cell_type": "code",
      "metadata": {
        "id": "uKC1_okIT4TF"
      },
      "source": [
        ""
      ],
      "execution_count": null,
      "outputs": []
    },
    {
      "cell_type": "code",
      "metadata": {
        "id": "pthPoGuNOrgl",
        "outputId": "c5df958b-ca34-44cf-a242-945f25821871",
        "colab": {
          "base_uri": "https://localhost:8080/"
        }
      },
      "source": [
        "# getting to spark\n",
        "# creating spark session\n",
        "from pyspark.sql import SparkSession\n",
        "from pyspark.sql.functions import count\n",
        "\n",
        "spark = SparkSession.builder.appName(\"Taxi\").getOrCreate()"
      ],
      "execution_count": 18,
      "outputs": [
        {
          "output_type": "stream",
          "text": [
            "time: 8.24 s (started: 2021-04-17 14:54:07 +00:00)\n"
          ],
          "name": "stdout"
        }
      ]
    },
    {
      "cell_type": "code",
      "metadata": {
        "id": "YBcu328yOrjv",
        "outputId": "b98f0fdb-8733-4358-8b27-50ed48e6e6d6",
        "colab": {
          "base_uri": "https://localhost:8080/"
        }
      },
      "source": [
        "train_df = spark.read.csv(train_file)"
      ],
      "execution_count": 19,
      "outputs": [
        {
          "output_type": "stream",
          "text": [
            "time: 6.88 s (started: 2021-04-17 14:54:21 +00:00)\n"
          ],
          "name": "stdout"
        }
      ]
    },
    {
      "cell_type": "code",
      "metadata": {
        "colab": {
          "base_uri": "https://localhost:8080/"
        },
        "id": "9BhwPMZlOrnF",
        "outputId": "919a7735-c566-4dc9-b700-ea7bd88e2fdc"
      },
      "source": [
        "train_df.head()"
      ],
      "execution_count": 20,
      "outputs": [
        {
          "output_type": "execute_result",
          "data": {
            "text/plain": [
              "Row(_c0='452563162', _c1='1', _c2='1.74', _c3='-73.99114500000002', _c4='40.76553700000001', _c5='-677418915', _c6='-1', _c7='-73.97599199999999', _c8='40.786277000000005', _c9='7.5', _c10='10', _c11='2012', _c12='11', _c13='13', _c14='6.0', _c15='1.0', _c16='2.6339725754785412')"
            ]
          },
          "metadata": {
            "tags": []
          },
          "execution_count": 20
        },
        {
          "output_type": "stream",
          "text": [
            "time: 478 ms (started: 2021-04-17 14:54:49 +00:00)\n"
          ],
          "name": "stdout"
        }
      ]
    },
    {
      "cell_type": "code",
      "metadata": {
        "id": "iVn5EzGpOrps",
        "outputId": "f9404869-116e-424f-c5cd-16c1547dcabe",
        "colab": {
          "base_uri": "https://localhost:8080/"
        }
      },
      "source": [
        "# creating schema for the dataframe\n",
        "from pyspark.sql.types import StructType, StructField, StructField, DoubleType, IntegerType\n",
        "schema = StructType([\n",
        "StructField(\"vendor_id\", DoubleType()),\n",
        "StructField(\"passenger_count\", DoubleType()),\n",
        "StructField(\"trip_distance\", DoubleType()),\n",
        "StructField(\"pickup_longitude\", DoubleType()),\n",
        "StructField(\"pickup_latitude\", DoubleType()),\n",
        "StructField(\"rate_code\", DoubleType()),\n",
        "StructField(\"store_and_fwd\", DoubleType()),\n",
        "StructField(\"dropoff_longitude\", DoubleType()),\n",
        "StructField(\"dropoff_latitude\", DoubleType()),\n",
        "StructField(\"fare_amount\", DoubleType()),\n",
        "StructField(\"hour\", DoubleType()),\n",
        "StructField(\"year\", IntegerType()),\n",
        "StructField(\"month\", IntegerType()),\n",
        "StructField(\"day\", DoubleType()),\n",
        "StructField(\"day_of_week\", DoubleType()),\n",
        "StructField(\"is_weekend\", DoubleType()) ])"
      ],
      "execution_count": 21,
      "outputs": [
        {
          "output_type": "stream",
          "text": [
            "time: 17 ms (started: 2021-04-17 14:55:16 +00:00)\n"
          ],
          "name": "stdout"
        }
      ]
    },
    {
      "cell_type": "code",
      "metadata": {
        "colab": {
          "base_uri": "https://localhost:8080/"
        },
        "id": "1de9XWhfOrsm",
        "outputId": "7437c094-d75e-4a9e-8ad5-b4b42fdb55ed"
      },
      "source": [
        "# putting schema to the dataframe\n",
        "train_df = spark.read.option(\"infer_schema\", False).option(\"header\", True).schema(schema).csv(train_file)\n",
        "train_df.head()"
      ],
      "execution_count": 22,
      "outputs": [
        {
          "output_type": "execute_result",
          "data": {
            "text/plain": [
              "Row(vendor_id=452563162.0, passenger_count=5.0, trip_distance=2.72, pickup_longitude=-73.948132, pickup_latitude=40.829826999999995, rate_code=-677418915.0, store_and_fwd=-1.0, dropoff_longitude=-73.969648, dropoff_latitude=40.797472000000006, fare_amount=11.5, hour=10.0, year=2012, month=11, day=13.0, day_of_week=6.0, is_weekend=1.0)"
            ]
          },
          "metadata": {
            "tags": []
          },
          "execution_count": 22
        },
        {
          "output_type": "stream",
          "text": [
            "time: 405 ms (started: 2021-04-17 14:55:32 +00:00)\n"
          ],
          "name": "stdout"
        }
      ]
    },
    {
      "cell_type": "code",
      "metadata": {
        "colab": {
          "base_uri": "https://localhost:8080/"
        },
        "id": "bianpj4bdZvo",
        "outputId": "da5bfb1b-154f-4a8e-e62c-db9e4627be2c"
      },
      "source": [
        "train_df.show(1)"
      ],
      "execution_count": 23,
      "outputs": [
        {
          "output_type": "stream",
          "text": [
            "+------------+---------------+-------------+----------------+------------------+-------------+-------------+-----------------+------------------+-----------+----+----+-----+----+-----------+----------+\n",
            "|   vendor_id|passenger_count|trip_distance|pickup_longitude|   pickup_latitude|    rate_code|store_and_fwd|dropoff_longitude|  dropoff_latitude|fare_amount|hour|year|month| day|day_of_week|is_weekend|\n",
            "+------------+---------------+-------------+----------------+------------------+-------------+-------------+-----------------+------------------+-----------+----+----+-----+----+-----------+----------+\n",
            "|4.52563162E8|            5.0|         2.72|      -73.948132|40.829826999999995|-6.77418915E8|         -1.0|       -73.969648|40.797472000000006|       11.5|10.0|2012|   11|13.0|        6.0|       1.0|\n",
            "+------------+---------------+-------------+----------------+------------------+-------------+-------------+-----------------+------------------+-----------+----+----+-----+----+-----------+----------+\n",
            "only showing top 1 row\n",
            "\n",
            "time: 523 ms (started: 2021-04-17 14:55:35 +00:00)\n"
          ],
          "name": "stdout"
        }
      ]
    },
    {
      "cell_type": "code",
      "metadata": {
        "colab": {
          "base_uri": "https://localhost:8080/"
        },
        "id": "tCnPvKD1dtfZ",
        "outputId": "23e4b3b4-cb8b-4fe5-fb02-e3996b1b3bfd"
      },
      "source": [
        "# select join groupby\n",
        "train_df.groupby(\"hour\").count().sort(\"hour\").show()"
      ],
      "execution_count": 24,
      "outputs": [
        {
          "output_type": "stream",
          "text": [
            "+----+-----+\n",
            "|hour|count|\n",
            "+----+-----+\n",
            "| 0.0|   12|\n",
            "| 1.0|   49|\n",
            "| 2.0|  658|\n",
            "| 3.0|  742|\n",
            "| 4.0|  812|\n",
            "| 5.0|   89|\n",
            "| 6.0|  464|\n",
            "| 7.0|  678|\n",
            "| 8.0|  364|\n",
            "| 9.0| 1055|\n",
            "|10.0| 1303|\n",
            "|11.0| 1422|\n",
            "|12.0|  321|\n",
            "|13.0|    3|\n",
            "|14.0|    3|\n",
            "|16.0|    4|\n",
            "|17.0|    2|\n",
            "|18.0|    5|\n",
            "|19.0|    4|\n",
            "|21.0|    4|\n",
            "+----+-----+\n",
            "only showing top 20 rows\n",
            "\n",
            "time: 5.31 s (started: 2021-04-17 14:56:10 +00:00)\n"
          ],
          "name": "stdout"
        }
      ]
    },
    {
      "cell_type": "code",
      "metadata": {
        "colab": {
          "base_uri": "https://localhost:8080/"
        },
        "id": "whbZQm4zeotk",
        "outputId": "95e3d07c-20cd-496a-ef4e-71e3cf89cf2f"
      },
      "source": [
        "# filters\n",
        "train_df.select(\"hour\", \"fare_amount\").filter(\"hour==0\").show(5)"
      ],
      "execution_count": 25,
      "outputs": [
        {
          "output_type": "stream",
          "text": [
            "+----+-----------+\n",
            "|hour|fare_amount|\n",
            "+----+-----------+\n",
            "| 0.0|       10.5|\n",
            "| 0.0|       12.5|\n",
            "| 0.0|       11.0|\n",
            "| 0.0|        7.5|\n",
            "| 0.0|       18.5|\n",
            "+----+-----------+\n",
            "only showing top 5 rows\n",
            "\n",
            "time: 765 ms (started: 2021-04-17 14:56:50 +00:00)\n"
          ],
          "name": "stdout"
        }
      ]
    }
  ]
}